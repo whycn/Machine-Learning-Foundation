{
 "cells": [
  {
   "cell_type": "code",
   "execution_count": null,
   "metadata": {
    "collapsed": true
   },
   "outputs": [],
   "source": [
    "# This file is associated with the book\n",
    "# \"Machine Learning Refined\", Cambridge University Press, 2016.\n",
    "# by Jeremy Watt, Reza Borhani, and Aggelos Katsaggelos.\n",
    "\n",
    "import numpy as np\n",
    "import matplotlib.pyplot as plt\n",
    "import csv"
   ]
  },
  {
   "cell_type": "markdown",
   "metadata": {},
   "source": [
    "A simple data loading function."
   ]
  },
  {
   "cell_type": "code",
   "execution_count": null,
   "metadata": {
    "collapsed": true
   },
   "outputs": [],
   "source": [
    "# import training data \n",
    "def load_data(csvname):\n",
    "    # load in data\n",
    "    reader = csv.reader(open(\"imbalanced_2class.csv\", \"rb\"), delimiter=\",\")\n",
    "    d = list(reader)\n",
    "\n",
    "    # import data and reshape appropriately\n",
    "    data = np.array(d).astype(\"float\")\n",
    "    X = data[:,0:2]\n",
    "    y = data[:,2]\n",
    "    y.shape = (len(y),1)\n",
    "    \n",
    "    # pad data with ones for more compact gradient computation\n",
    "    o = np.ones((np.shape(X)[0],1))\n",
    "    X = np.concatenate((o,X),axis = 1)\n",
    "    X = X.T\n",
    "    \n",
    "    return X,y"
   ]
  },
  {
   "cell_type": "markdown",
   "metadata": {},
   "source": [
    "Functionality for gradient descent - including a function for computing gradients, performing the descent loop, etc.,"
   ]
  },
  {
   "cell_type": "code",
   "execution_count": null,
   "metadata": {
    "collapsed": false
   },
   "outputs": [],
   "source": [
    "# YOUR CODE GOES HERE - create a gradient descent function for softmax cost/logistic regression \n",
    "def softmax_grad(X,y):\n",
    "   \n",
    "        \n",
    "    return w"
   ]
  },
  {
   "cell_type": "markdown",
   "metadata": {},
   "source": [
    "Up next - a plotting function to show the datapoints and learned separator."
   ]
  },
  {
   "cell_type": "code",
   "execution_count": null,
   "metadata": {
    "collapsed": false
   },
   "outputs": [],
   "source": [
    "# plots everything \n",
    "def plot_all(X,y,w):\n",
    "    # custom colors for plotting points\n",
    "    red = [1,0,0.4]  \n",
    "    blue = [0,0.4,1]\n",
    "    \n",
    "    # scatter plot points\n",
    "    fig = plt.figure(figsize = (4,4))\n",
    "    ind = np.argwhere(y==1)\n",
    "    ind = [s[0] for s in ind]\n",
    "    plt.scatter(X[1,ind],X[2,ind],color = red,edgecolor = 'k',s = 25)\n",
    "    ind = np.argwhere(y==-1)\n",
    "    ind = [s[0] for s in ind]\n",
    "    plt.scatter(X[1,ind],X[2,ind],color = blue,edgecolor = 'k',s = 25)\n",
    "    plt.grid('off')\n",
    "    \n",
    "    # plot separator\n",
    "    s = np.linspace(0,1,100) \n",
    "    plt.plot(s,(-w[0]-w[1]*s)/w[2],color = 'k',linewidth = 2)\n",
    "    \n",
    "    # clean up plot\n",
    "    plt.xlim([-0.1,1.1])\n",
    "    plt.ylim([-0.1,1.1])\n",
    "    plt.show()"
   ]
  },
  {
   "cell_type": "markdown",
   "metadata": {
    "collapsed": false
   },
   "source": [
    "With everything defined, lets run all."
   ]
  },
  {
   "cell_type": "code",
   "execution_count": null,
   "metadata": {
    "collapsed": false
   },
   "outputs": [],
   "source": [
    "# load in data\n",
    "X,y = load_data('imbalanced_2class.csv')\n",
    "\n",
    "# run gradient descent\n",
    "w = softmax_grad(X,y)\n",
    "\n",
    "# plot points and separator\n",
    "plot_all(X,y,w)"
   ]
  }
 ],
 "metadata": {
  "anaconda-cloud": {},
  "kernelspec": {
   "display_name": "Python [conda root]",
   "language": "python",
   "name": "conda-root-py"
  },
  "language_info": {
   "codemirror_mode": {
    "name": "ipython",
    "version": 2
   },
   "file_extension": ".py",
   "mimetype": "text/x-python",
   "name": "python",
   "nbconvert_exporter": "python",
   "pygments_lexer": "ipython2",
   "version": "2.7.12"
  }
 },
 "nbformat": 4,
 "nbformat_minor": 1
}
